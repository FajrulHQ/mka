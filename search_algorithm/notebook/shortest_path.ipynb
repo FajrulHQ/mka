{
 "cells": [
  {
   "cell_type": "code",
   "execution_count": 214,
   "id": "fc5d8572-4da3-4096-843e-dd6c4c77ce39",
   "metadata": {},
   "outputs": [],
   "source": [
    "locations = [\n",
    "    {\n",
    "    \"location\": \"Arad\",\n",
    "    \"to_bucharest\": 366,\n",
    "    \"options\": [[\"Zerind\", 75], [\"Sibiu\",140], [\"Timisoara\",118]]\n",
    "    },\n",
    "    {\n",
    "    \"location\": \"Bucharest\",\n",
    "    \"to_bucharest\": 0,\n",
    "    \"options\": [[\"Pitesti\",101], [\"Giurgiu\", 90], [\"Urziceni\", 85], [\"Fagaras\", 211]]\n",
    "    },\n",
    "    {\n",
    "    \"location\": \"Craiova\",\n",
    "    \"to_bucharest\": 160,\n",
    "    \"options\": [[\"Pitesti\", 138], [\"Rimnicu Vilcea\", 146], [\"Dobreta\", 120]]\n",
    "    },\n",
    "    {\n",
    "    \"location\": \"Dobreta\",\n",
    "    \"to_bucharest\": 242,\n",
    "    \"options\": [[\"Mehadia\", 75], [\"Craiova\", 120]]\n",
    "    },\n",
    "    {\n",
    "    \"location\": \"Eforie\",\n",
    "    \"to_bucharest\": 161,\n",
    "    \"options\": [[\"Hirsova\", 86]]\n",
    "    },\n",
    "    {\n",
    "    \"location\": \"Fagaras\",\n",
    "    \"to_bucharest\": 178,\n",
    "    \"options\": [[\"Sibiu\", 99], [\"Bucharest\", 211]]\n",
    "    },\n",
    "    {\n",
    "    \"location\": \"Giurgiu\",\n",
    "    \"to_bucharest\": 77,\n",
    "    \"options\": [[\"Bucharest\", 90]]\n",
    "    },\n",
    "    {\n",
    "    \"location\": \"Hirsova\",\n",
    "    \"to_bucharest\": 151,\n",
    "    \"options\": [[\"Urziceni\", 98], [\"Eforie\", 86]]\n",
    "    },\n",
    "    {\n",
    "    \"location\": \"Iasi\",\n",
    "    \"to_bucharest\": 226,\n",
    "    \"options\": [[\"Vaslui\", 92], [\"Neamt\", 87]]\n",
    "    },\n",
    "    {\n",
    "    \"location\": \"Lugoj\",\n",
    "    \"to_bucharest\": 244,\n",
    "    \"options\": [[\"Mehadia\", 70], [\"Timisoara\", 111]]\n",
    "    },\n",
    "    {\n",
    "    \"location\": \"Mehadia\",\n",
    "    \"to_bucharest\": 241,\n",
    "    \"options\": [[\"Lugoj\", 70], [\"Dobreta\", 75]]\n",
    "    },\n",
    "    {\n",
    "    \"location\": \"Neamt\",\n",
    "    \"to_bucharest\": 234,\n",
    "    \"options\": [[\"Iasi\", 87]]\n",
    "    },\n",
    "    {\n",
    "    \"location\": \"Oradea\",\n",
    "    \"to_bucharest\": 380,\n",
    "    \"options\": [[\"Zerind\", 71], [\"Sibiu\", 151]]\n",
    "    },\n",
    "    {\n",
    "    \"location\": \"Pitesti\",\n",
    "    \"to_bucharest\": 98,\n",
    "    \"options\": [[\"Rimnicu Vilcea\", 97], [\"Bucharest\", 101]]\n",
    "    },\n",
    "    {\n",
    "    \"location\": \"Rimnicu Vilcea\",\n",
    "    \"to_bucharest\": 193,\n",
    "    \"options\": [[\"Sibiu\", 80], [\"Pitesti\", 97]]\n",
    "    },\n",
    "    {\n",
    "    \"location\": \"Sibiu\",\n",
    "    \"to_bucharest\": 253,\n",
    "    \"options\": [[\"Fagaras\", 99], [\"Rimnicu Vilcea\", 80], [\"Arad\", 140], [\"Oradea\", 151]]\n",
    "    },\n",
    "    {\n",
    "    \"location\": \"Timisoara\",\n",
    "    \"to_bucharest\": 329,\n",
    "    \"options\": [[\"Arad\", 118], [\"Lugoj\", 111]]\n",
    "    },\n",
    "    {\n",
    "    \"location\": \"Urziceni\",\n",
    "    \"to_bucharest\": 80,\n",
    "    \"options\": [[\"Bucharest\", 85], [\"Hirsova\", 98], [\"Vaslui\", 142]]\n",
    "    },\n",
    "    {\n",
    "    \"location\": \"Vaslui\",\n",
    "    \"to_bucharest\": 199,\n",
    "    \"options\": [[\"Iasi\", 92], [\"Urziceni\", 142]]\n",
    "    },\n",
    "    {\n",
    "    \"location\": \"Zerind\",\n",
    "    \"to_bucharest\": 374,\n",
    "    \"options\": [[\"Oradea\", 71], [\"Arad\", 75]]\n",
    "    },\n",
    "]"
   ]
  },
  {
   "cell_type": "code",
   "execution_count": 247,
   "id": "5b368584-3ec7-480d-a2f1-58ec212eb28c",
   "metadata": {},
   "outputs": [],
   "source": [
    "def get_location(loc):\n",
    "    return list(filter(lambda x: x[\"location\"] == loc, locations))[0]\n",
    "\n",
    "def shortest_path(first_loc, method):\n",
    "    path = [first_loc]\n",
    "    recent_loc  = first_loc\n",
    "    g_total,i = 0,0\n",
    "    # stop when last path in Bucharest\n",
    "    while path[-1] != \"Bucharest\" and i < 10:\n",
    "        location = get_location(recent_loc)\n",
    "        last_loc = path[-2] if len(path)>1 else path[-1]\n",
    "        f = []\n",
    "        for opt in location[\"options\"]:\n",
    "            # except calculate on last location\n",
    "            if opt[0] != last_loc:\n",
    "                h = get_location(opt[0])[\"to_bucharest\"]\n",
    "                g = g_total + opt[1]\n",
    "                if (method == \"greedy\"):\n",
    "                    f.append({\"location\": opt[0],\"f(n)\": h, \"g(n)\": opt[1]})\n",
    "                elif (method == \"A*\"):\n",
    "                    f.append({\"location\": opt[0],\"f(n)\": h+g, \"g(n)\": opt[1]})\n",
    "        \n",
    "        min_f = min(f, key=lambda x:x[\"f(n)\"])\n",
    "\n",
    "        recent_loc = min_f[\"location\"]\n",
    "        path.append(recent_loc)\n",
    "        g_total += min_f[\"g(n)\"]\n",
    "        # i+=1 # to avoid infinite loop\n",
    "    return \" -> \".join(path)"
   ]
  },
  {
   "cell_type": "code",
   "execution_count": 248,
   "id": "b7c9df15-f47e-43b3-8235-162fc2816e36",
   "metadata": {},
   "outputs": [
    {
     "name": "stdout",
     "output_type": "stream",
     "text": [
      "greedy\t: Arad -> Sibiu -> Fagaras -> Bucharest\n",
      "A*\t: Arad -> Sibiu -> Rimnicu Vilcea -> Pitesti -> Bucharest \n",
      "\n",
      "greedy\t: Bucharest\n",
      "A*\t: Bucharest \n",
      "\n",
      "greedy\t: Craiova -> Pitesti -> Bucharest\n",
      "A*\t: Craiova -> Pitesti -> Bucharest \n",
      "\n",
      "greedy\t: Dobreta -> Craiova -> Pitesti -> Bucharest\n",
      "A*\t: Dobreta -> Craiova -> Pitesti -> Bucharest \n",
      "\n",
      "greedy\t: Eforie -> Hirsova -> Urziceni -> Bucharest\n",
      "A*\t: Eforie -> Hirsova -> Urziceni -> Bucharest \n",
      "\n",
      "greedy\t: Fagaras -> Bucharest\n",
      "A*\t: Fagaras -> Bucharest \n",
      "\n",
      "greedy\t: Giurgiu -> Bucharest\n",
      "A*\t: Giurgiu -> Bucharest \n",
      "\n",
      "greedy\t: Hirsova -> Urziceni -> Bucharest\n",
      "A*\t: Hirsova -> Urziceni -> Bucharest \n",
      "\n",
      "greedy\t: Iasi -> Vaslui -> Urziceni -> Bucharest\n",
      "A*\t: Iasi -> Vaslui -> Urziceni -> Bucharest \n",
      "\n",
      "greedy\t: Lugoj -> Mehadia -> Dobreta -> Craiova -> Pitesti -> Bucharest\n",
      "A*\t: Lugoj -> Mehadia -> Dobreta -> Craiova -> Pitesti -> Bucharest \n",
      "\n",
      "greedy\t: Mehadia -> Dobreta -> Craiova -> Pitesti -> Bucharest\n",
      "A*\t: Mehadia -> Lugoj -> Timisoara -> Arad -> Sibiu -> Rimnicu Vilcea -> Pitesti -> Bucharest \n",
      "\n",
      "greedy\t: Neamt -> Iasi -> Vaslui -> Urziceni -> Bucharest\n",
      "A*\t: Neamt -> Iasi -> Vaslui -> Urziceni -> Bucharest \n",
      "\n",
      "greedy\t: Oradea -> Sibiu -> Fagaras -> Bucharest\n",
      "A*\t: Oradea -> Sibiu -> Rimnicu Vilcea -> Pitesti -> Bucharest \n",
      "\n",
      "greedy\t: Pitesti -> Bucharest\n",
      "A*\t: Pitesti -> Bucharest \n",
      "\n",
      "greedy\t: Rimnicu Vilcea -> Pitesti -> Bucharest\n",
      "A*\t: Rimnicu Vilcea -> Pitesti -> Bucharest \n",
      "\n",
      "greedy\t: Sibiu -> Fagaras -> Bucharest\n",
      "A*\t: Sibiu -> Rimnicu Vilcea -> Pitesti -> Bucharest \n",
      "\n",
      "greedy\t: Timisoara -> Lugoj -> Mehadia -> Dobreta -> Craiova -> Pitesti -> Bucharest\n",
      "A*\t: Timisoara -> Lugoj -> Mehadia -> Dobreta -> Craiova -> Pitesti -> Bucharest \n",
      "\n",
      "greedy\t: Urziceni -> Bucharest\n",
      "A*\t: Urziceni -> Bucharest \n",
      "\n",
      "greedy\t: Vaslui -> Urziceni -> Bucharest\n",
      "A*\t: Vaslui -> Urziceni -> Bucharest \n",
      "\n",
      "greedy\t: Zerind -> Arad -> Sibiu -> Fagaras -> Bucharest\n",
      "A*\t: Zerind -> Arad -> Sibiu -> Rimnicu Vilcea -> Pitesti -> Bucharest \n",
      "\n"
     ]
    }
   ],
   "source": [
    "for loc in [x[\"location\"] for x in locations]:\n",
    "    print(\"greedy\\t:\", shortest_path(loc, \"greedy\"))\n",
    "    print(\"A*\\t:\", shortest_path(loc, \"A*\"), \"\\n\")"
   ]
  },
  {
   "cell_type": "code",
   "execution_count": 249,
   "id": "47bfacc0-f064-4496-b413-0cf91b5a67a4",
   "metadata": {},
   "outputs": [
    {
     "data": {
      "text/plain": [
       "317"
      ]
     },
     "execution_count": 249,
     "metadata": {},
     "output_type": "execute_result"
    }
   ],
   "source": [
    "75+242"
   ]
  },
  {
   "cell_type": "code",
   "execution_count": 244,
   "id": "fb2d12d2-d8ac-4ff6-b947-783ad7e736af",
   "metadata": {},
   "outputs": [
    {
     "data": {
      "text/plain": [
       "314"
      ]
     },
     "execution_count": 244,
     "metadata": {},
     "output_type": "execute_result"
    }
   ],
   "source": [
    "70+244"
   ]
  },
  {
   "cell_type": "code",
   "execution_count": null,
   "id": "9656e3c6-3250-487f-bdcd-7ba7dd31bd98",
   "metadata": {},
   "outputs": [],
   "source": []
  }
 ],
 "metadata": {
  "kernelspec": {
   "display_name": "Python 3.10.8 64-bit (microsoft store)",
   "language": "python",
   "name": "python3"
  },
  "language_info": {
   "codemirror_mode": {
    "name": "ipython",
    "version": 3
   },
   "file_extension": ".py",
   "mimetype": "text/x-python",
   "name": "python",
   "nbconvert_exporter": "python",
   "pygments_lexer": "ipython3",
   "version": "3.10.8"
  },
  "vscode": {
   "interpreter": {
    "hash": "78754e225be667b4b9fe9fe62eae71bab207b75d582a0c8fd64328e998918619"
   }
  }
 },
 "nbformat": 4,
 "nbformat_minor": 5
}
